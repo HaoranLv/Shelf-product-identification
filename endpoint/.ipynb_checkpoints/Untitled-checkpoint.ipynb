{
 "cells": [
  {
   "cell_type": "code",
   "execution_count": 16,
   "id": "5116fad5",
   "metadata": {},
   "outputs": [
    {
     "name": "stdout",
     "output_type": "stream",
     "text": [
      "<Response [200]>\n",
      "total time: 4.738142251968384\n"
     ]
    }
   ],
   "source": [
    "import requests\n",
    "import json\n",
    "import time\n",
    "url='http://localhost:8080/invocations'\n",
    "\n",
    "# bucket = 'spot-bot-asset'\n",
    "# image_uri = 'end/dog.jpg'\n",
    "# test_data = {\n",
    "#     'bucket' : bucket,\n",
    "#     'image_uri' : image_uri,\n",
    "#     'content_type': \"application/json\",\n",
    "# }\n",
    "# payload = json.dumps(test_data)\n",
    "\n",
    "start=time.time()\n",
    "r = requests.post(url)\n",
    "end=time.time()\n",
    "#show result\n",
    "print (r.text)\n",
    "print('total time:',end-start)"
   ]
  },
  {
   "cell_type": "code",
   "execution_count": 1,
   "id": "4136b137",
   "metadata": {},
   "outputs": [
    {
     "name": "stdout",
     "output_type": "stream",
     "text": [
      "CONTAINER ID        IMAGE               COMMAND             CREATED             STATUS              PORTS                    NAMES\n",
      "e5b714ead9d5        xinhe               \"python serve.py\"   4 minutes ago       Up 4 minutes        0.0.0.0:8080->8080/tcp   zen_aryabhata\n"
     ]
    }
   ],
   "source": [
    "!docker ps"
   ]
  },
  {
   "cell_type": "code",
   "execution_count": null,
   "id": "c1e7f82f",
   "metadata": {},
   "outputs": [],
   "source": [
    "import boto3\n",
    "import cv2\n",
    "import time\n",
    "runtime = boto3.client(\"sagemaker-runtime\",region_name=\"us-east-2\")\n",
    "tic = time.time()\n",
    "\n",
    "# imread then resize then save\n",
    "# a = cv2.imread(\"./endpoint/1.jpeg\")\n",
    "# a_resize = cv2.resize(a, (100,100))\n",
    "# cv2.imwrite(\"./endpoint/test.jpeg\",a_resize)\n",
    "\n",
    "\n",
    "body = b\"\"\n",
    "with open(\"./test.jpg\", \"rb\") as fp:\n",
    "    body = fp.read()\n",
    "\n",
    "response = runtime.invoke_endpoint(\n",
    "    EndpointName='xinhe',\n",
    "    Body=body,\n",
    "    ContentType='image/jpeg',\n",
    ")\n",
    "body = response[\"Body\"].read()\n",
    "\n",
    "toc = time.time()\n",
    "\n",
    "print(body.decode())\n",
    "print(f\"elapsed: {(toc - tic) * 1000.0} ms\")"
   ]
  }
 ],
 "metadata": {
  "kernelspec": {
   "display_name": "conda_python3",
   "language": "python",
   "name": "conda_python3"
  },
  "language_info": {
   "codemirror_mode": {
    "name": "ipython",
    "version": 3
   },
   "file_extension": ".py",
   "mimetype": "text/x-python",
   "name": "python",
   "nbconvert_exporter": "python",
   "pygments_lexer": "ipython3",
   "version": "3.6.13"
  }
 },
 "nbformat": 4,
 "nbformat_minor": 5
}
